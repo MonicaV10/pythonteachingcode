{
 "cells": [
  {
   "cell_type": "markdown",
   "metadata": {},
   "source": [
    "#  Module 2 Required Coding Activity  \n",
    "Introduction to Python (Unit 2) Fundamentals \n",
    " \n",
    "All course .ipynb Jupyter Notebooks are available from the project files download topic in Module 1, Section 1.\n",
    "\n",
    "This is an activity based on code similar to the Jupyter Notebook **`Practice_MOD02_IntroPy.ipynb`** which you may have completed.  \n",
    "\n",
    "| Important Assignment Requirements |  \n",
    "|:-------------------------------|  \n",
    "| **NOTE:** This program requires creating a function using **`def`** and **`return`**, using **`print`** output, **`input`**, **`if`**, **`in`** keywords, **`.append()`**, **`.pop()`**, **`.remove()`** list methods.  As well as other standard Python |   \n",
    "\n",
    "## Program: list-o-matic  \n",
    "This program takes string input and checks if that string is in a list of strings    \n",
    "- if string is in the list it removes the first instance from list  \n",
    "- if string is not in the list the input gets appended to the list  \n",
    "- if the string is empty then the last item is popped from the list \n",
    "- if the **list becomes empty** the program ends  \n",
    "- if the user enters \"quit\" then the program ends  \n",
    "\n",
    "program has 2 parts  \n",
    "- **program flow** which can be modified to ask for a specific type of item.  This is the programmers choice.  Add a list of fish, trees, books, movies, songs.... your choice.  \n",
    "- **list-o-matic** Function which takes arguments of a string and a list.  The function modifies the list and returns a message as seen below.  \n",
    "\n",
    "![TODO: upload image to blob](https://q4tiyg-ch3302.files.1drv.com/y4mkvwrxHSIqinTvp_nNGFiMn_yyJ0dsEtCzPpG_hsFMRdyEED4ExPdsWmbdPIKRpgU25VxFIUAGBdz0yzqumtxw7wy_pAJMJ3MeZ6PJQKyej6UwN6N6zOmnRq6106aqvXJB43RKRJgB2oMmidb9Zl0OBjmvFVowm-XtD2wUW5bJrgd4LS8I5Nso_vXqfpNCANRYcKe4WnjIWds4KoV4sjPIg?width=717&height=603&cropmode=none)\n",
    "\n",
    "**[ ]** initialize a list with several strings at the beginning of the program flow and follow the flow chart and output examples\n",
    "\n",
    " *example input/output*  \n",
    " ```\n",
    "look at all the animals ['cat', 'goat', 'cat']\n",
    "enter the name of an animal: horse\n",
    "1 instance of horse appended to list\n",
    "\n",
    "look at all the animals ['cat', 'goat', 'cat', 'horse']\n",
    "enter the name of an animal: cat\n",
    "1 instance of cat removed from list\n",
    "\n",
    "look at all the animals ['goat', 'cat', 'horse']\n",
    "enter the name of an animal: cat\n",
    "1 instance of cat removed from list\n",
    "\n",
    "look at all the animals ['goat', 'horse']\n",
    "enter the name of an animal:          (<-- entered empty string)\n",
    "horse popped from list\n",
    "\n",
    "look at all the animals ['goat']\n",
    "enter the name of an animal:          (<-- entered empty string)\n",
    "goat popped from list\n",
    "\n",
    "Goodbye!\n",
    "```  \n",
    "\n",
    "*example 2*\n",
    "```\n",
    "look at all the animals ['cat', 'goat', 'cat']\n",
    "enter the name of an animal: Quit\n",
    "Goodbye!\n",
    "```  \n",
    "\n"
   ]
  },
  {
   "cell_type": "code",
   "execution_count": 7,
   "metadata": {},
   "outputs": [
    {
     "name": "stdout",
     "output_type": "stream",
     "text": [
      "look at all the animals ['dog', 'cat', 'bird']\n",
      "enter name of an animal: horse\n",
      "1 instance of horse appended to list\n",
      "\n",
      "look at all the animals ['dog', 'cat', 'bird', 'horse']\n",
      "enter name of an animal: cat\n",
      "1 instance of cat removed from list\n",
      "\n",
      "look at all the animals ['dog', 'bird', 'horse']\n",
      "enter name of an animal: cat\n",
      "1 instance of cat appended to list\n",
      "\n",
      "look at all the animals ['dog', 'bird', 'horse', 'cat']\n",
      "enter name of an animal: snake\n",
      "1 instance of snake appended to list\n",
      "\n",
      "look at all the animals ['dog', 'bird', 'horse', 'cat', 'snake']\n",
      "enter name of an animal: chicken\n",
      "1 instance of chicken appended to list\n",
      "\n",
      "look at all the animals ['dog', 'bird', 'horse', 'cat', 'snake', 'chicken']\n",
      "enter name of an animal: dog\n",
      "1 instance of dog removed from list\n",
      "\n",
      "look at all the animals ['bird', 'horse', 'cat', 'snake', 'chicken']\n",
      "enter name of an animal: bird\n",
      "1 instance of bird removed from list\n",
      "\n",
      "look at all the animals ['horse', 'cat', 'snake', 'chicken']\n",
      "enter name of an animal: cat\n",
      "1 instance of cat removed from list\n",
      "\n",
      "look at all the animals ['horse', 'snake', 'chicken']\n",
      "enter name of an animal: snake\n",
      "1 instance of snake removed from list\n",
      "\n",
      "look at all the animals ['horse', 'chicken']\n",
      "enter name of an animal: quit\n",
      "goodbye!!\n"
     ]
    }
   ],
   "source": [
    "def list_o_matic(a_name, a_list):\n",
    "    if a_name.lower() == \"\":\n",
    "        a_name_rm = a_list.pop()\n",
    "        return a_name_rm+\" popped from list\\n\"\n",
    "    elif a_name.lower() in a_list:\n",
    "        a_list.remove(a_name.lower())\n",
    "        return \"1 instance of \"+a_name.lower()+\" removed from list\\n\"\n",
    "    else:\n",
    "        a_list.append(a_name.lower())\n",
    "        return \"1 instance of \"+a_name.lower()+\" appended to list\\n\"\n",
    "\n",
    "animal_list = ['dog', 'cat', 'bird']\n",
    "\n",
    "while animal_list:\n",
    "    print(\"look at all the animals\", animal_list)\n",
    "    animal_name = input(\"enter name of an animal: \")\n",
    "    if animal_name.lower() == \"quit\":\n",
    "        break\n",
    "    else:\n",
    "        print(list_o_matic(animal_name, animal_list))\n",
    "\n",
    "print(\"goodbye!!\")"
   ]
  },
  {
   "cell_type": "code",
   "execution_count": 3,
   "metadata": {},
   "outputs": [],
   "source": [
    "numbers = [2,3,2]\n",
    "total = 0\n",
    "while numbers:\n",
    "    total += numbers.pop()"
   ]
  },
  {
   "cell_type": "code",
   "execution_count": 4,
   "metadata": {},
   "outputs": [
    {
     "ename": "ValueError",
     "evalue": "list.remove(x): x not in list",
     "output_type": "error",
     "traceback": [
      "\u001b[0;31m---------------------------------------------------------------------------\u001b[0m",
      "\u001b[0;31mValueError\u001b[0m                                Traceback (most recent call last)",
      "\u001b[0;32m<ipython-input-4-a8fae0846bf6>\u001b[0m in \u001b[0;36m<module>\u001b[0;34m\u001b[0m\n\u001b[1;32m      1\u001b[0m \u001b[0mdays\u001b[0m \u001b[0;34m=\u001b[0m \u001b[0;34m[\u001b[0m\u001b[0;36m12\u001b[0m\u001b[0;34m,\u001b[0m \u001b[0;36m9\u001b[0m\u001b[0;34m,\u001b[0m \u001b[0;34m'MONDAY'\u001b[0m\u001b[0;34m,\u001b[0m \u001b[0;36m1\u001b[0m\u001b[0;34m]\u001b[0m\u001b[0;34m\u001b[0m\u001b[0;34m\u001b[0m\u001b[0m\n\u001b[0;32m----> 2\u001b[0;31m \u001b[0mdays\u001b[0m\u001b[0;34m.\u001b[0m\u001b[0mremove\u001b[0m\u001b[0;34m(\u001b[0m\u001b[0;34m'friday'\u001b[0m\u001b[0;34m)\u001b[0m\u001b[0;34m\u001b[0m\u001b[0;34m\u001b[0m\u001b[0m\n\u001b[0m",
      "\u001b[0;31mValueError\u001b[0m: list.remove(x): x not in list"
     ]
    }
   ],
   "source": [
    "days = [12, 9, 'MONDAY', 1]\n",
    "days.remove('friday')"
   ]
  },
  {
   "cell_type": "code",
   "execution_count": 8,
   "metadata": {},
   "outputs": [
    {
     "name": "stdout",
     "output_type": "stream",
     "text": [
      "[1, 1, 5, 0]\n"
     ]
    }
   ],
   "source": [
    "numbers = [1, 1, 0]\n",
    "numbers.insert(2,5)\n",
    "print(numbers)"
   ]
  },
  {
   "cell_type": "code",
   "execution_count": 15,
   "metadata": {},
   "outputs": [
    {
     "name": "stdout",
     "output_type": "stream",
     "text": [
      "1\n"
     ]
    }
   ],
   "source": [
    "days=[12,9,1]\n",
    "\n",
    "print(days[-1])"
   ]
  },
  {
   "cell_type": "markdown",
   "metadata": {},
   "source": [
    "Submit this by creating a python file (.py) and submitting it in D2L. Be sure to test that it works.\n"
   ]
  }
 ],
 "metadata": {
  "anaconda-cloud": {},
  "kernelspec": {
   "display_name": "Python 3",
   "language": "python",
   "name": "python3"
  },
  "language_info": {
   "codemirror_mode": {
    "name": "ipython",
    "version": 3
   },
   "file_extension": ".py",
   "mimetype": "text/x-python",
   "name": "python",
   "nbconvert_exporter": "python",
   "pygments_lexer": "ipython3",
   "version": "3.7.6"
  }
 },
 "nbformat": 4,
 "nbformat_minor": 1
}
