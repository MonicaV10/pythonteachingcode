{
 "cells": [
  {
   "cell_type": "markdown",
   "metadata": {},
   "source": [
    "# 2-4 Intro Python Practice\n",
    "## Working with Files\n",
    "\n",
    "<font size=\"5\" color=\"#00A0B2\"  face=\"verdana\"> <B>Student will be able to</B></font>  \n",
    " \n",
    "- Import files into Jupyter notebooks  \n",
    "- Open and **`.read()`** local files in memory   \n",
    "- Use **`.read()`** to read a specific number of characters  \n",
    "- Use **`.readlines()`** to read data from file as a **list** of lines  \n",
    "- Use **`.readlines()`** to read data from file as a **list** of lines   \n",
    "- Use **`.readline()`** to read data from file a line at a time   \n",
    "- Use **`.strip()`** to remove new line characters  \n",
    "- Use `.write()` to write data to a new local file  \n",
    "- Use **`.seek()`** to set file read or write location  \n",
    "- Use file append mode  \n"
   ]
  },
  {
   "cell_type": "markdown",
   "metadata": {
    "collapsed": true
   },
   "source": [
    "# &nbsp;\n",
    "<font size=\"6\" color=\"#B24C00\"  face=\"verdana\"> <B>Task 1</B></font>\n",
    "\n",
    "## Order the Rainbow\n",
    "#### Open the rainbow file then put in a list and print in alphabetical order\n",
    "Download and open the file. \n",
    "- Download list of rainbow colors, as `rainbow.txt`, using `curl` \n",
    "  https://raw.githubusercontent.com/MicrosoftLearning/intropython/master/rainbow   \n",
    "- Open rainbow.txt in read mode using a variable: rainbow_file   \n",
    " "
   ]
  },
  {
   "cell_type": "code",
   "execution_count": 1,
   "metadata": {},
   "outputs": [
    {
     "name": "stdout",
     "output_type": "stream",
     "text": [
      "  % Total    % Received % Xferd  Average Speed   Time    Time     Time  Current\n",
      "                                 Dload  Upload   Total   Spent    Left  Speed\n",
      "100    43  100    43    0     0    225      0 --:--:-- --:--:-- --:--:--   226\n"
     ]
    }
   ],
   "source": [
    "# [ ] import https://raw.githubusercontent.com/MicrosoftLearning/intropython/master/rainbow as rainbow.txt\n",
    "!curl https://raw.githubusercontent.com/MicrosoftLearning/intropython/master/rainbow -o rainbow.txt\n",
    "rainbow_file = open('rainbow.txt', 'r')"
   ]
  },
  {
   "cell_type": "markdown",
   "metadata": {},
   "source": [
    "\n",
    "- Read rainbow_file as a list variable: rainbow_colors using `.readlines()`    \n"
   ]
  },
  {
   "cell_type": "code",
   "execution_count": 2,
   "metadata": {},
   "outputs": [
    {
     "name": "stdout",
     "output_type": "stream",
     "text": [
      "['red\\n', 'orange\\n', 'yellow\\n', 'green\\n', 'blue\\n', 'indigo\\n', 'violet\\n']\n"
     ]
    }
   ],
   "source": [
    "# [ ]  Open rainbow.txt in read mode & read as list with .readlines()\n",
    "rainbow_list = rainbow_file.readlines()\n",
    "print(rainbow_list)"
   ]
  },
  {
   "cell_type": "markdown",
   "metadata": {},
   "source": [
    " \n",
    "1. Sort the rainbow_lines list alphabetically.  \n",
    "2. Print each line of rainbow_lines by iterating the sorted list.  \n",
    "3. Close rainbow_file.  "
   ]
  },
  {
   "cell_type": "code",
   "execution_count": 3,
   "metadata": {},
   "outputs": [
    {
     "name": "stdout",
     "output_type": "stream",
     "text": [
      "blue\n",
      "green\n",
      "indigo\n",
      "orange\n",
      "red\n",
      "violet\n",
      "yellow\n"
     ]
    }
   ],
   "source": [
    "# [ ] sort rainbow_colors list, iterate the list to print each color\n",
    "rainbow_list.sort()\n",
    "for color in rainbow_list:\n",
    "    print(color.strip())\n",
    "rainbow_file.close()"
   ]
  },
  {
   "cell_type": "markdown",
   "metadata": {
    "collapsed": true
   },
   "source": [
    "# &nbsp;\n",
    "<font size=\"6\" color=\"#B24C00\"  face=\"verdana\"> <B>Task 2</B></font>\n",
    "\n",
    "## The Weather\n",
    "Create a program that reads from a file to display city name and average temperature in Celsius.   \n",
    "\n",
    "&nbsp;  \n",
    "- use `!curl` to download https://raw.githubusercontent.com/MicrosoftLearning/intropython/master/world_temp_mean.csv as `mean_temp.txt`  \n",
    "  \n"
   ]
  },
  {
   "cell_type": "code",
   "execution_count": 4,
   "metadata": {},
   "outputs": [
    {
     "name": "stdout",
     "output_type": "stream",
     "text": [
      "  % Total    % Received % Xferd  Average Speed   Time    Time     Time  Current\n",
      "                                 Dload  Upload   Total   Spent    Left  Speed\n",
      "100   222  100   222    0     0    853      0 --:--:-- --:--:-- --:--:--   850\n"
     ]
    }
   ],
   "source": [
    "# [ ] The Weather: import world_mean_team.csv as mean_temp.txt\n",
    "!curl https://raw.githubusercontent.com/MicrosoftLearning/intropython/master/world_temp_mean.csv -o mean_temp.txt"
   ]
  },
  {
   "cell_type": "markdown",
   "metadata": {},
   "source": [
    "1. Open the file in `'r'` mode.  \n",
    "2. Read the first line of text into a variable called: `  headings` and `print()`.  \n",
    "3. Convert `headings` to a list using **`.split(',')`** which splits on each comma, `print()` the list.\n"
   ]
  },
  {
   "cell_type": "code",
   "execution_count": 5,
   "metadata": {},
   "outputs": [
    {
     "name": "stdout",
     "output_type": "stream",
     "text": [
      "city,country,month ave: highest high,month ave: lowest low\n",
      "\n",
      "['city', 'country', 'month ave: highest high', 'month ave: lowest low\\n']\n"
     ]
    }
   ],
   "source": [
    "# [ ] The Weather: open file, read/print first line, convert line to list (splitting on comma)\n",
    "mean_temp_file = open('mean_temp.txt', 'r')\n",
    "\n",
    "headings = mean_temp_file.readline()\n",
    "print(headings)\n",
    "\n",
    "headings_list = headings.split(',')\n",
    "print(headings_list)"
   ]
  },
  {
   "cell_type": "markdown",
   "metadata": {},
   "source": [
    "#### use a while loop to read the remaining lines from the file  \n",
    "  1. Assign remaining lines to a **`city_temp`** variable.  \n",
    "  2. Convert the city_temp to a list using **`.split(',')`** for each **`.readline()`** in the loop.  \n",
    "  3. Print each city & the highest monthly average temperature.  \n",
    "  4. Close mean_temps.  \n",
    "\n",
    ">Tips & Hints:   \n",
    "- Use the print output of **`headings`** to determine the city_temp indexes to use.  \n",
    "- \"month ave: highest high\" for Beijing is 30.9 Celsius.  \n",
    "- Convert `city_temp` to lists with `.split(',')`.  "
   ]
  },
  {
   "cell_type": "code",
   "execution_count": 6,
   "metadata": {},
   "outputs": [
    {
     "name": "stdout",
     "output_type": "stream",
     "text": [
      "month ave: highest high for Beijing is 30.9 Celsius\n",
      "month ave: highest high for Cairo is 34.7 Celsius\n",
      "month ave: highest high for London is 23.5 Celsius\n",
      "month ave: highest high for Nairobi is 26.3 Celsius\n",
      "month ave: highest high for New York City is 28.9 Celsius\n",
      "month ave: highest high for Sydney is 26.5 Celsius\n",
      "month ave: highest high for Tokyo is 30.8 Celsius\n"
     ]
    }
   ],
   "source": [
    "# [ ] The Weather: use while loop to print city and highest monthly average temp in celsius\n",
    "city_temp = mean_temp_file.readline()\n",
    "\n",
    "while city_temp:\n",
    "    city_temp_list = city_temp.split(',')\n",
    "    print(headings_list[2]+\" for \"+city_temp_list[0]+\" is \"+city_temp_list[2]+\" Celsius\")\n",
    "    city_temp = mean_temp_file.readline()\n",
    "\n",
    "mean_temp_file.close()"
   ]
  },
  {
   "cell_type": "markdown",
   "metadata": {
    "collapsed": true
   },
   "source": [
    "# &nbsp;  \n",
    "<font size=\"6\" color=\"#B24C00\"  face=\"verdana\"> <B>Task 3</B></font>  \n",
    "\n",
    "## Random pi  guessing\n",
    "Create random appearing numbers by reading digits of pi \n",
    "*Note: only \"appears\" random*\n",
    "\n",
    "- Download https://raw.githubusercontent.com/MicrosoftLearning/intropython/master/digits_of_pi  as pi.txt"
   ]
  },
  {
   "cell_type": "code",
   "execution_count": 9,
   "metadata": {},
   "outputs": [
    {
     "name": "stdout",
     "output_type": "stream",
     "text": [
      "  % Total    % Received % Xferd  Average Speed   Time    Time     Time  Current\n",
      "                                 Dload  Upload   Total   Spent    Left  Speed\n",
      "100   303  100   303    0     0   2885      0 --:--:-- --:--:-- --:--:--  2885\n"
     ]
    }
   ],
   "source": [
    "# [ ] use curl to download https://raw.githubusercontent.com/MicrosoftLearning/intropython/master/digits_of_pi as pi.txt\n",
    "!curl https://raw.githubusercontent.com/MicrosoftLearning/intropython/master/digits_of_pi -o pi.txt"
   ]
  },
  {
   "cell_type": "markdown",
   "metadata": {},
   "source": [
    "#### Set up the project files and intitial values  \n",
    "1. Open pi.txt in read mode, the file has a single line of text \"3.14....\".  \n",
    "2. Get user name as input and say \"hi\".  \n",
    "3. Use the length of `name` for variable called `seed`.  \n",
    "4. Use `.seek()` with the value of `seed` to set the initial pointer location reading the file.  \n",
    "5. Create a variable `digit` and assign it the value of reading one character from the file.  \n",
    "6. Get `guess` variable value from users `input`  - \"enter a single digit guess or \"q\" to quit\".  \n",
    "7. Initialize `correct` and `wrong` counter variables to **`0`**  (zero).  "
   ]
  },
  {
   "cell_type": "code",
   "execution_count": 10,
   "metadata": {},
   "outputs": [
    {
     "name": "stdout",
     "output_type": "stream",
     "text": [
      "enter your name: Monica Vickery\n",
      "Hi, Monica Vickery\n",
      "3.141592653589793238462643383279502884197169399375105820974944592307816406286208998628034825342117067982148086513282306647093844609550582231725359408128481117450284102701938521105559644622948954930381964428810975665933446128475648233786783165271201909145648566923460348610454326648213393607260249141273\n",
      "\n",
      "7\n",
      "enter a single digit guess or \"q\" to quit: q\n"
     ]
    }
   ],
   "source": [
    "# [ ] Set up the project files and initial values\n",
    "pi_txt_file = open('pi.txt', 'r')\n",
    "\n",
    "name = input(\"enter your name: \")\n",
    "print(\"Hi,\",name)\n",
    "\n",
    "print(pi_txt_file.read())\n",
    "pi_txt_file.seek(0)\n",
    "\n",
    "seed = len(name)\n",
    "pi_txt_file.seek(seed)\n",
    "\n",
    "digit = pi_txt_file.read(1)\n",
    "print(digit)\n",
    "\n",
    "guess = input(\"enter a single digit guess or \\\"q\\\" to quit: \")\n",
    "\n",
    "correct = 0\n",
    "wrong = 0"
   ]
  },
  {
   "cell_type": "markdown",
   "metadata": {},
   "source": [
    "#### Create a while loop that tests that `guess` is a *digit* string\n",
    "then in the loop:\n",
    "1. if `digit` ( read from pi file) is \"**.**\" read the next character for digit  \n",
    "2. else if `digit` is \"\\n\" increment `seed` and use `seed` to set the pointer uing .`seek()`  \n",
    "3. else see if `guess` is equal to `digit`   \n",
    "  a. if `guess` equals `digit`: print \"correct\" and increment the varible named `correct`  \n",
    "  b. if `guess` not equal `digit`: print \"incorrect\" and increment the variable named `wrong`  \n",
    "  \n",
    "**end the while loop** when user enters any non-digit(s) for `guess`, like \"q\".  \n",
    "- Print `correct` and `wrong` values within a message to the user.  \n",
    "- Close the pi file. "
   ]
  },
  {
   "cell_type": "code",
   "execution_count": 13,
   "metadata": {},
   "outputs": [
    {
     "name": "stdout",
     "output_type": "stream",
     "text": [
      "your answer 0 is correct\n",
      "you answer 0 is incorrect\n"
     ]
    }
   ],
   "source": [
    "while guess.isdigit():\n",
    "    if digit == \".\":\n",
    "        digit = pi_txt_file.read(1)\n",
    "    elif digit == \"\\n\":\n",
    "        seed += 1\n",
    "        pi_txt_file.seek(seed)\n",
    "    else:\n",
    "        if guess == digit:\n",
    "            print(\"correct\")\n",
    "            correct += 1\n",
    "        else:\n",
    "            print(\"worng\")\n",
    "            wrong += 1\n",
    "    guess = input(\"enter a single digit guess or \\\"q\\\" to quit: \")\n",
    "    if guess.isdigit():\n",
    "        pass\n",
    "    else:\n",
    "        break\n",
    "        \n",
    "print(\"your answer\",correct,\"is correct\")\n",
    "print(\"you answer\",wrong,\"is incorrect\")\n",
    "pi_txt_file.close()"
   ]
  },
  {
   "cell_type": "markdown",
   "metadata": {
    "collapsed": true
   },
   "source": [
    "[Terms of use](http://go.microsoft.com/fwlink/?LinkID=206977) &nbsp; [Privacy & cookies](https://go.microsoft.com/fwlink/?LinkId=521839) &nbsp; © 2017 Microsoft"
   ]
  }
 ],
 "metadata": {
  "anaconda-cloud": {},
  "kernelspec": {
   "display_name": "Python 3",
   "language": "python",
   "name": "python3"
  },
  "language_info": {
   "codemirror_mode": {
    "name": "ipython",
    "version": 3
   },
   "file_extension": ".py",
   "mimetype": "text/x-python",
   "name": "python",
   "nbconvert_exporter": "python",
   "pygments_lexer": "ipython3",
   "version": "3.7.6"
  }
 },
 "nbformat": 4,
 "nbformat_minor": 1
}
