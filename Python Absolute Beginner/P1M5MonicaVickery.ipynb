{
 "cells": [
  {
   "cell_type": "markdown",
   "metadata": {},
   "source": [
    "# module 5 final evaluation:\n",
    "## -create, call and test the adding_report() function"
   ]
  },
  {
   "cell_type": "code",
   "execution_count": 9,
   "metadata": {},
   "outputs": [
    {
     "name": "stdout",
     "output_type": "stream",
     "text": [
      "\n",
      "input an integer to add to the total or \"q\" to quit\n",
      "enter an integer or \"q\"): 1\n",
      "enter an integer or \"q\"): w\n",
      "w is invalid input\n",
      "enter an integer or \"q\"): 1\n",
      "enter an integer or \"q\"): 1\n",
      "enter an integer or \"q\"): q\n",
      "\n",
      "items \n",
      "1\n",
      "1\n",
      "1\n",
      "\n",
      "total\n",
      " 3\n",
      "\n",
      "input an integer to add to the total or \"q\" to quit\n",
      "enter an integer or \"q\"): 2\n",
      "enter an integer or \"q\"): 3\n",
      "enter an integer or \"q\"): 4\n",
      "enter an integer or \"q\"): q\n",
      "\n",
      "total\n",
      " 9\n"
     ]
    }
   ],
   "source": [
    "def adding_report(report = \"T\"):\n",
    "    total = 0\n",
    "    items = \"\\n\"\n",
    "    print(\"\\ninput an integer to add to the total or \\\"q\\\" to quit\")  \n",
    "    while True:\n",
    "        number = input(\"enter an integer or \\\"q\\\"): \")\n",
    "        if number.isdigit():\n",
    "            int_number = int(number)\n",
    "            total += int_number\n",
    "            if report == \"A\":\n",
    "                items = items + number + \"\\n\"\n",
    "        elif number.lower().startswith(\"q\"):\n",
    "            if report == \"A\":\n",
    "                print(\"\\nitems\",items)\n",
    "                print(\"total\\n\",str(total))\n",
    "            else:\n",
    "                print(\"\\ntotal\\n\",str(total))\n",
    "            break\n",
    "        else:\n",
    "            print(number,\"is invalid input\")\n",
    "        \n",
    "adding_report(\"A\")\n",
    "adding_report(\"T\")"
   ]
  }
 ],
 "metadata": {
  "kernelspec": {
   "display_name": "Python 3",
   "language": "python",
   "name": "python3"
  },
  "language_info": {
   "codemirror_mode": {
    "name": "ipython",
    "version": 3
   },
   "file_extension": ".py",
   "mimetype": "text/x-python",
   "name": "python",
   "nbconvert_exporter": "python",
   "pygments_lexer": "ipython3",
   "version": "3.7.6"
  }
 },
 "nbformat": 4,
 "nbformat_minor": 4
}
