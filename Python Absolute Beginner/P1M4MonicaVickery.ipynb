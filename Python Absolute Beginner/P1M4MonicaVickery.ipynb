{
 "cells": [
  {
   "cell_type": "code",
   "execution_count": null,
   "metadata": {},
   "outputs": [],
   "source": [
    "#module 4 required code:\n",
    "\n",
    "# [ ] create, call and test the str_analysis() function  \n",
    "def str_analysis(in_string):\n",
    "    if in_string.isdigit():\n",
    "        int_in_string =int(in_string)\n",
    "        if int_in_string >99:\n",
    "            return in_string + \" is a big number.\"\n",
    "        else:\n",
    "            return in_string + \" is a small number.\"\n",
    "    elif in_string.isalpha():\n",
    "        return \"\\\"\" + in_string + \"\\\"\" + \" is all alpha characters.\"\n",
    "    else:\n",
    "        return in_string + \" is neither all alpha nor all digit.\"\n",
    "get_string = \"\"    \n",
    "    \n",
    "while True:\n",
    "    get_string = input(\"enter word or integer: \")\n",
    "    if get_string == \"\":\n",
    "        pass\n",
    "    else:\n",
    "        print(str_analysis(get_string))\n",
    "        break"
   ]
  }
 ],
 "metadata": {
  "kernelspec": {
   "display_name": "Python 3",
   "language": "python",
   "name": "python3"
  },
  "language_info": {
   "codemirror_mode": {
    "name": "ipython",
    "version": 3
   },
   "file_extension": ".py",
   "mimetype": "text/x-python",
   "name": "python",
   "nbconvert_exporter": "python",
   "pygments_lexer": "ipython3",
   "version": "3.7.6"
  }
 },
 "nbformat": 4,
 "nbformat_minor": 4
}
