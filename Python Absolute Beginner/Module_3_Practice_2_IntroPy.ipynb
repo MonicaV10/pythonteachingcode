{
 "cells": [
  {
   "cell_type": "markdown",
   "metadata": {},
   "source": [
    "# 1-5 Intro Python Practice  \n",
    "## conditionals, type, and mathematics extended   \n",
    "&nbsp;\n",
    "<font size=\"5\" color=\"#00A0B2\"  face=\"verdana\"> <B>Student will be able to</B></font>  \n",
    "- code more than two choices using **`elif`** \n",
    "- gather numeric input using type casting  \n",
    "- perform subtraction, multiplication and division operations in code  &nbsp;  \n"
   ]
  },
  {
   "cell_type": "markdown",
   "metadata": {},
   "source": [
    "# &nbsp;  \n",
    "<font size=\"6\" color=\"#B24C00\"  face=\"verdana\"> <B>Tasks</B></font>"
   ]
  },
  {
   "cell_type": "markdown",
   "metadata": {},
   "source": [
    "### Rainbow colors\n",
    "ask for input of a favorite rainbow color first letter: ROYGBIV  \n",
    "\n",
    "Using `if`, `elif`, and `else`:  \n",
    "- print the color matching the letter  \n",
    "    - R = Red  \n",
    "    - O = Orange  \n",
    "    - Y = Yellow  \n",
    "    - G = Green\n",
    "    - B = Blue\n",
    "    - I = Indigo\n",
    "    - V = Violet\n",
    "    - else print \"no match\"\n"
   ]
  },
  {
   "cell_type": "code",
   "execution_count": 8,
   "metadata": {},
   "outputs": [
    {
     "name": "stdout",
     "output_type": "stream",
     "text": [
      "input of fav rainbow color: B\n",
      "your fav is blue\n"
     ]
    }
   ],
   "source": [
    "# [ ] complete rainbow colors\n",
    "fav_color = input(\"input of fav rainbow color: \")\n",
    "if fav_color == \"R\":\n",
    "    print(\"your fav is red\")\n",
    "elif fav_color == \"O\":\n",
    "    print(\"your fav is orange\")\n",
    "elif fav_color == \"Y\":\n",
    "    print(\"your fav is yellow\")\n",
    "elif fav_color == \"G\":\n",
    "    print(\"your fav is green\")\n",
    "elif fav_color == \"B\":\n",
    "    print(\"your fav is blue\")\n",
    "elif fav_color == \"I\":\n",
    "    print(\"your fav is indigo\")\n",
    "elif fav_color == \"V\":\n",
    "    print(\"your fav is violet\")\n",
    "else:\n",
    "    print(\"no match\")"
   ]
  },
  {
   "cell_type": "code",
   "execution_count": 16,
   "metadata": {},
   "outputs": [
    {
     "name": "stdout",
     "output_type": "stream",
     "text": [
      "input of fav rainbow color: B\n",
      "your fav color is: blue\n"
     ]
    }
   ],
   "source": [
    "# [ ] make the code above into a function rainbow_color() that has a string parameter, \n",
    "# get input and call the function and return the matching color as a string or \"no match\" message.\n",
    "# Call the function and print the return string.\n",
    "def rainbow_color(fav_color):\n",
    "    if fav_color == \"R\":\n",
    "        return \"red\"\n",
    "    elif fav_color == \"O\":\n",
    "        return \"orange\"\n",
    "    elif fav_color == \"Y\":\n",
    "        return \"yellow\"\n",
    "    elif fav_color == \"G\":\n",
    "        return \"green\"\n",
    "    elif fav_color == \"B\":\n",
    "        return \"blue\"\n",
    "    elif fav_color == \"I\":\n",
    "        return \"indigo\"\n",
    "    elif fav_color == \"V\":\n",
    "        return \"violet\"\n",
    "    else:\n",
    "        return \"no match\"\n",
    "fav_color = input(\"input of fav rainbow color: \")\n",
    "print(\"your fav color is:\",rainbow_color(fav_color))"
   ]
  },
  {
   "cell_type": "markdown",
   "metadata": {},
   "source": [
    "# &nbsp;  \n",
    "**Create function age_20() that adds or subtracts 20 from your age for a return value based on current age** (use `if`) \n",
    "- call the funtion with user input and then use the return value in a sentence  \n",
    "example `age_20(25)` returns **5**: \n",
    "> \"5 years old, 20 years difference from now\""
   ]
  },
  {
   "cell_type": "code",
   "execution_count": 19,
   "metadata": {},
   "outputs": [
    {
     "name": "stdout",
     "output_type": "stream",
     "text": [
      "enter your age: 27\n",
      "7 years old, 20 years difference from now\n"
     ]
    }
   ],
   "source": [
    "# [ ] complete age_20()\n",
    "def age_20(age):\n",
    "    if int(age) >= 20:\n",
    "        return int(age)-20\n",
    "    else:\n",
    "        return 20-int(age)\n",
    "your_age = input(\"enter your age: \")\n",
    "if your_age.isdigit():\n",
    "    print(str(age_20(your_age)),\"years old, 20 years difference from now\")\n",
    "else:\n",
    "    print(\"invalid age\")"
   ]
  },
  {
   "cell_type": "markdown",
   "metadata": {},
   "source": [
    "**create a function rainbow_or_age that takes a string argument**\n",
    "- if argument is a digit return the value of calling age_20() with the str value cast as **`int`** \n",
    "- if argument is an alphabetical character return the value of calling rainbow_color() with the str\n",
    "- if neither return FALSE"
   ]
  },
  {
   "cell_type": "code",
   "execution_count": 27,
   "metadata": {},
   "outputs": [
    {
     "name": "stdout",
     "output_type": "stream",
     "text": [
      "enter your color or age: G\n"
     ]
    },
    {
     "data": {
      "text/plain": [
       "'green'"
      ]
     },
     "execution_count": 27,
     "metadata": {},
     "output_type": "execute_result"
    }
   ],
   "source": [
    "# [ ]  create rainbow_or_age()\n",
    "def rainbow_or_age(rainage):\n",
    "    if rainage.isdigit():\n",
    "        return age_20(rainage)\n",
    "    elif rainage.isalpha():\n",
    "        return rainbow_color(rainage.upper())\n",
    "    else:\n",
    "        return False\n",
    "rainbow_or_age(input(\"enter your color or age: \"))"
   ]
  },
  {
   "cell_type": "code",
   "execution_count": 32,
   "metadata": {},
   "outputs": [
    {
     "name": "stdout",
     "output_type": "stream",
     "text": [
      "enter #1: 2\n",
      "enter #2: 3\n",
      "the answer is 5\n"
     ]
    }
   ],
   "source": [
    "# [ ]  add 2 numbers from input using a cast to integer and display the answer \n",
    "num_1 = input(\"enter #1: \")\n",
    "num_2 = input(\"enter #2: \")\n",
    "if num_1.isdigit() and num_2.isdigit():\n",
    "    sum12 = int(num_1) + int(num_2)\n",
    "    print(\"the answer is\",sum12)\n",
    "else:\n",
    "    print(\"invalid input\")"
   ]
  },
  {
   "cell_type": "code",
   "execution_count": 31,
   "metadata": {},
   "outputs": [
    {
     "name": "stdout",
     "output_type": "stream",
     "text": [
      "enter #1: 2\n",
      "enter #2: 4\n",
      "the answer is 8\n"
     ]
    }
   ],
   "source": [
    "# [ ] Multiply 2 numbers from input using cast and save the answer as part of a string \"the answer is...\"\n",
    "# display the string using print\n",
    "num_1 = input(\"enter #1: \")\n",
    "num_2 = input(\"enter #2: \")\n",
    "if num_1.isdigit() and num_2.isdigit():\n",
    "    prod12 = int(num_1) * int(num_2)\n",
    "    print(\"the answer is\",prod12)\n",
    "else:\n",
    "    print(\"invalid input\")"
   ]
  },
  {
   "cell_type": "code",
   "execution_count": 33,
   "metadata": {},
   "outputs": [
    {
     "name": "stdout",
     "output_type": "stream",
     "text": [
      "enter #1: 8\n",
      "enter #2: 6\n",
      "the answer is 7.0\n"
     ]
    }
   ],
   "source": [
    "# [ ] get input of 2 numbers and display the average: (num1 + num2) divided by 2\n",
    "num_1 = input(\"enter #1: \")\n",
    "num_2 = input(\"enter #2: \")\n",
    "if num_1.isdigit() and num_2.isdigit():\n",
    "    ave12 = (int(num_1) + int(num_2))/2\n",
    "    print(\"the answer is\",ave12)\n",
    "else:\n",
    "    print(\"invalid input\")"
   ]
  },
  {
   "cell_type": "code",
   "execution_count": 34,
   "metadata": {},
   "outputs": [
    {
     "name": "stdout",
     "output_type": "stream",
     "text": [
      "enter #1: 67\n",
      "enter #2: 46\n",
      "the answer is 21\n"
     ]
    }
   ],
   "source": [
    "# [ ] get input of 2 numbers and subtract the largest from the smallest (use an if statement to see which is larger)\n",
    "# show the answer\n",
    "num_1 = input(\"enter #1: \")\n",
    "num_2 = input(\"enter #2: \")\n",
    "if num_1.isdigit()and num_2.isdigit():\n",
    "    int_num_1 = int(num_1)\n",
    "    int_num_2 = int(num_2)\n",
    "    if int_num_1 >= int_num_2:\n",
    "        diff12 = int_num_1 - int_num_2\n",
    "    else:\n",
    "        diff12 = int_num_2 - int_num_1\n",
    "    print(\"the answer is\",diff12)\n",
    "else:\n",
    "    print(\"invalid input\")"
   ]
  },
  {
   "cell_type": "code",
   "execution_count": 35,
   "metadata": {},
   "outputs": [
    {
     "name": "stdout",
     "output_type": "stream",
     "text": [
      "enter #1: 234\n",
      "enter #2: 345\n",
      "the answer is 1\n"
     ]
    }
   ],
   "source": [
    "# [ ] Divide a larger number by a smaller number and print the integer part of the result\n",
    "# don't divide by zero! if a zero is input make the result zero\n",
    "# [ ] cast the answer to an integer to cut off the decimals and print the result\n",
    "num_3 = input(\"enter #1: \")\n",
    "num_4 = input(\"enter #2: \")\n",
    "if num_3.isdigit() and num_4.isdigit():\n",
    "    int_num_3 = int(num_3)\n",
    "    int_num_4 = int(num_4)\n",
    "    if int_num_3 == 0 or int_num_4 == 0:\n",
    "        quot12 = 0\n",
    "    elif int_num_3 >= int_num_4:\n",
    "        quot12 = int_num_3 / int_num_4\n",
    "    else:\n",
    "        quot12 = int_num_4 / int_num_3\n",
    "    print(\"the answer is\",int(quot12))\n",
    "else:\n",
    "    print(\"invalid input\")"
   ]
  },
  {
   "cell_type": "markdown",
   "metadata": {},
   "source": [
    "[Terms of use](http://go.microsoft.com/fwlink/?LinkID=206977) &nbsp; [Privacy & cookies](https://go.microsoft.com/fwlink/?LinkId=521839) &nbsp; © 2017 Microsoft"
   ]
  }
 ],
 "metadata": {
  "anaconda-cloud": {},
  "kernelspec": {
   "display_name": "Python 3",
   "language": "python",
   "name": "python3"
  },
  "language_info": {
   "codemirror_mode": {
    "name": "ipython",
    "version": 3
   },
   "file_extension": ".py",
   "mimetype": "text/x-python",
   "name": "python",
   "nbconvert_exporter": "python",
   "pygments_lexer": "ipython3",
   "version": "3.7.6"
  }
 },
 "nbformat": 4,
 "nbformat_minor": 1
}
