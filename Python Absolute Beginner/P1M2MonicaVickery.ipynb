{
 "cells": [
  {
   "cell_type": "code",
   "execution_count": null,
   "metadata": {},
   "outputs": [],
   "source": [
    "#module 2 required code:\n",
    "\n",
    "### [ ] create, call and test fishstore() function \n",
    "def fishstore(fish, price):\n",
    "    return \"fish type: \" + fish + \" costs $\" + price\n",
    "\n",
    "fish_entry=input(\"enter fish: \")\n",
    "price_entry=input(\"enter price: \")\n",
    "print(fishstore(fish_entry, price_entry))"
   ]
  }
 ],
 "metadata": {
  "kernelspec": {
   "display_name": "Python 3",
   "language": "python",
   "name": "python3"
  },
  "language_info": {
   "codemirror_mode": {
    "name": "ipython",
    "version": 3
   },
   "file_extension": ".py",
   "mimetype": "text/x-python",
   "name": "python",
   "nbconvert_exporter": "python",
   "pygments_lexer": "ipython3",
   "version": "3.7.6"
  }
 },
 "nbformat": 4,
 "nbformat_minor": 4
}
