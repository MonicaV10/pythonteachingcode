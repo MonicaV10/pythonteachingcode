{
 "cells": [
  {
   "cell_type": "markdown",
   "metadata": {},
   "source": [
    "# 1-7.2 Intro Python Practice\n",
    "## `while()` loops & increments\n",
    "<font size=\"5\" color=\"#00A0B2\"  face=\"verdana\"> <B>Student will be able to</B></font>\n",
    "- create forever loops using `while` and `break`\n",
    "- use incrementing variables in a while loop\n",
    "- control while loops using Boolean operators"
   ]
  },
  {
   "cell_type": "code",
   "execution_count": 6,
   "metadata": {},
   "outputs": [
    {
     "name": "stdout",
     "output_type": "stream",
     "text": [
      "Enter your no.: 1\n",
      "Enter your no.: 1\n",
      "Enter your no.: 1\n",
      "Enter your no.: 1\n",
      "Enter your no.: s\n",
      "sum is: 4\n"
     ]
    }
   ],
   "source": [
    "# [ ] use a \"forever\" while loop to get user input of integers to add to sum, \n",
    "# until a non-digit is entered, then break the loop and print sum\n",
    "sum = 0\n",
    "num1 = \"0\"\n",
    "\n",
    "while True:\n",
    "    num1 = input(\"Enter your no.: \")\n",
    "    if num1.isdigit():\n",
    "        sum += int(num1)\n",
    "    else:\n",
    "        break\n",
    "        \n",
    "print(\"sum is:\",sum)"
   ]
  },
  {
   "cell_type": "code",
   "execution_count": 12,
   "metadata": {},
   "outputs": [
    {
     "name": "stdout",
     "output_type": "stream",
     "text": [
      "enter a color: orange\n",
      "rainbow color is found!\n"
     ]
    }
   ],
   "source": [
    "# [ ] use a while True loop (forever loop) to give 4 chances for input of a correct color in a rainbow\n",
    "# rainbow = \"red orange yellow green blue indigo violet\"\n",
    "rainbow = \"red orange yellow green blue indigo violet\"\n",
    "loop = 0\n",
    "\n",
    "while True:\n",
    "    rain_color = input(\"enter a color: \").lower()\n",
    "    if rain_color in rainbow:\n",
    "        print(\"rainbow color is found!\")\n",
    "        break\n",
    "    else:\n",
    "        loop += 1\n",
    "    if loop < 4:\n",
    "        pass\n",
    "    else:\n",
    "        print(\"no more chances!\")\n",
    "        break"
   ]
  },
  {
   "cell_type": "code",
   "execution_count": 14,
   "metadata": {},
   "outputs": [
    {
     "name": "stdout",
     "output_type": "stream",
     "text": [
      "enter a book title: Harry Potter\n",
      "your book is: Harry Potter\n"
     ]
    }
   ],
   "source": [
    "# [ ] Get input for a book title, keep looping while input is Not in title format (title is every word capitalized)\n",
    "title = \"\"\n",
    "while True:\n",
    "    title = input(\"enter a book title: \")\n",
    "    if title.istitle():\n",
    "        print(\"your book is:\",title)\n",
    "        break"
   ]
  },
  {
   "cell_type": "code",
   "execution_count": 15,
   "metadata": {},
   "outputs": [
    {
     "name": "stdout",
     "output_type": "stream",
     "text": [
      "enter a number: 34\n",
      "square of 34 is 1156\n"
     ]
    }
   ],
   "source": [
    "# [ ] create a math quiz question and ask for the solution until the input is correct\n",
    "while True:\n",
    "    num = input(\"enter a number: \")\n",
    "    if num.isdigit():\n",
    "        int_num = int(num)\n",
    "        num_sqr = int_num * int_num\n",
    "        print(\"square of\",num,\"is\",num_sqr)\n",
    "        break"
   ]
  },
  {
   "cell_type": "markdown",
   "metadata": {},
   "source": [
    "### Fix the Error"
   ]
  },
  {
   "cell_type": "code",
   "execution_count": 16,
   "metadata": {},
   "outputs": [
    {
     "name": "stdout",
     "output_type": "stream",
     "text": [
      "enter tickets remaining (0 to quit): 34\n",
      "sorry, not a winner.\n",
      "enter tickets remaining (0 to quit): 45\n",
      "you win!\n",
      "enter tickets remaining (0 to quit): 56\n",
      "sorry, not a winner.\n",
      "enter tickets remaining (0 to quit): 34\n",
      "sorry, not a winner.\n",
      "enter tickets remaining (0 to quit): 23\n",
      "sorry, not a winner.\n",
      "enter tickets remaining (0 to quit): 234\n",
      "you win!\n",
      "enter tickets remaining (0 to quit): 0\n",
      "Game ended\n"
     ]
    }
   ],
   "source": [
    "# [ ] review the code, run, fix the error\n",
    "tickets = int(input(\"enter tickets remaining (0 to quit): \"))\n",
    "while tickets > 0:\n",
    "    if int(tickets/3) == tickets/3:\n",
    "        print(\"you win!\")\n",
    "    else:\n",
    "        print(\"sorry, not a winner.\")\n",
    "    tickets = int(input(\"enter tickets remaining (0 to quit): \"))\n",
    "\n",
    "print(\"Game ended\")"
   ]
  },
  {
   "cell_type": "markdown",
   "metadata": {},
   "source": [
    "### create a function: quiz_item()  that asks a question and tests if input is correct  \n",
    "- quiz_item()has 2 parameter **strings**: question and solution  \n",
    "- shows question, gets answer input  \n",
    "- returns True if `answer == solution` or continues to ask question until correct answer is provided  \n",
    "- use a while loop\n",
    "\n",
    "create 2 or more quiz questions that call quiz_item()  \n",
    "**Hint**: provide multiple choice or T/F answers"
   ]
  },
  {
   "cell_type": "code",
   "execution_count": 25,
   "metadata": {},
   "outputs": [
    {
     "name": "stdout",
     "output_type": "stream",
     "text": [
      "what is the capital of Georgia = ?: Kennesaw\n",
      "what is the capital of Georgia = ?: Atlanta\n",
      "12 - 2 = 10 (T/F)?: f\n",
      "12 - 2 = 10 (T/F)?: t\n"
     ]
    },
    {
     "data": {
      "text/plain": [
       "True"
      ]
     },
     "execution_count": 25,
     "metadata": {},
     "output_type": "execute_result"
    }
   ],
   "source": [
    "# Create quiz_item() and 2 or more quiz questions that call quiz_item()\n",
    "def quiz_item(question, solution):\n",
    "    while True:\n",
    "        answer = input(question).capitalize()\n",
    "        if answer == solution:\n",
    "            return True\n",
    "quiz_item(\"what is the capital of Georgia = ?: \",\"Atlanta\")\n",
    "quiz_item(\"12 - 2 = 10 (T/F)?: \",\"T\")"
   ]
  },
  {
   "cell_type": "markdown",
   "metadata": {
    "collapsed": true
   },
   "source": [
    "[Terms of use](http://go.microsoft.com/fwlink/?LinkID=206977) &nbsp; [Privacy & cookies](https://go.microsoft.com/fwlink/?LinkId=521839) &nbsp; © 2017 Microsoft"
   ]
  }
 ],
 "metadata": {
  "anaconda-cloud": {},
  "kernelspec": {
   "display_name": "Python 3",
   "language": "python",
   "name": "python3"
  },
  "language_info": {
   "codemirror_mode": {
    "name": "ipython",
    "version": 3
   },
   "file_extension": ".py",
   "mimetype": "text/x-python",
   "name": "python",
   "nbconvert_exporter": "python",
   "pygments_lexer": "ipython3",
   "version": "3.7.6"
  }
 },
 "nbformat": 4,
 "nbformat_minor": 1
}
