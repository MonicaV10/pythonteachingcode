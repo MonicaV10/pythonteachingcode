{
 "cells": [
  {
   "cell_type": "code",
   "execution_count": null,
   "metadata": {},
   "outputs": [],
   "source": [
    "#module 5 final evaluation:\n",
    "def adding_report(report = \"T\"):\n",
    "    total = 0\n",
    "    items = \"\\n\"\n",
    "    print(\"\\nInput an integer to add to the total or \\\"Q\\\" to quit\")    \n",
    "    while True:\n",
    "        numin = input(\"enter an integer or \\\"Q\\\"): \")\n",
    "        if numin.isdigit():\n",
    "            int_numin = int(numin)\n",
    "            total += int_numin\n",
    "            if report == \"A\":\n",
    "                items = items + numin + \"\\n\"\n",
    "        elif numin.lower().startswith(\"q\"):\n",
    "            if report == \"A\":\n",
    "                print(\"\\nItems\",items)\n",
    "                print(\"Total\\n\",str(total))\n",
    "            else:\n",
    "                print(\"\\nTotal\\n\",str(total))\n",
    "            break\n",
    "        else:\n",
    "            print(numin,\"is invalid input\")\n",
    "        \n",
    "adding_report(\"A\")\n",
    "adding_report(\"T\")"
   ]
  }
 ],
 "metadata": {
  "kernelspec": {
   "display_name": "Python 3",
   "language": "python",
   "name": "python3"
  },
  "language_info": {
   "codemirror_mode": {
    "name": "ipython",
    "version": 3
   },
   "file_extension": ".py",
   "mimetype": "text/x-python",
   "name": "python",
   "nbconvert_exporter": "python",
   "pygments_lexer": "ipython3",
   "version": "3.7.6"
  }
 },
 "nbformat": 4,
 "nbformat_minor": 4
}
