{
 "cells": [
  {
   "cell_type": "markdown",
   "metadata": {},
   "source": [
    "# 1-4.3 Intro Python Practice\n",
    "## Conditionals \n",
    "<font size=\"5\" color=\"#00A0B2\"  face=\"verdana\"> <B>Student will be able to</B></font>  \n",
    "- **control code flow with `if`... `else` conditional logic**  \n",
    "  - using Boolean string methods (`.isupper(), .isalpha(), .startswith()...`)  \n",
    "  - using comparision (`>, <, >=, <=, ==, !=`)  \n",
    "  - using Strings in comparisons  "
   ]
  },
  {
   "cell_type": "markdown",
   "metadata": {},
   "source": [
    "## `if else`\n"
   ]
  },
  {
   "cell_type": "code",
   "execution_count": 4,
   "metadata": {},
   "outputs": [
    {
     "name": "stdout",
     "output_type": "stream",
     "text": [
      "enter your age: 27\n",
      "you will be 37 in 10 years\n"
     ]
    }
   ],
   "source": [
    "# [ ] input avariable: age as digit and cast to int\n",
    "# if age greater than or equal to 12 then print message on age in 10 years \n",
    "# or else print message \"It is good to be\" age\n",
    "your_age=input(\"enter your age: \")\n",
    "if your_age.isdigit():\n",
    "    if int(your_age) >=12:\n",
    "        print(\"you will be\",str(int(your_age)+10),\"in 10 years\")\n",
    "    else:\n",
    "        print(\"it is good to be\", your_age)\n",
    "else:print(\"not availible\")"
   ]
  },
  {
   "cell_type": "code",
   "execution_count": 8,
   "metadata": {},
   "outputs": [
    {
     "name": "stdout",
     "output_type": "stream",
     "text": [
      "enter your number: 230\n",
      "greater than 100 is: True\n"
     ]
    }
   ],
   "source": [
    "# [ ] input a number \n",
    "# if number IS a digit string then cast to int\n",
    "# print number \"greater than 100 is\" True/False\n",
    "# if number is NOT a digit string then message the user that \"only int is accepted\"\n",
    "your_num=input(\"enter your number: \")\n",
    "if your_num.isdigit():\n",
    "    print(\"greater than 100 is:\",int(your_num) > 100)\n",
    "else:\n",
    "    print(\"only int is accepted\")"
   ]
  },
  {
   "cell_type": "markdown",
   "metadata": {},
   "source": [
    "### Guessing a letter A-Z  \n",
    "**check_guess()** takes 2 string arguments: **letter and guess** (both expect single alphabetical character)   \n",
    "    - if guess is not an alpha character print invalid and return False\n",
    "    - test and print if guess is \"high\" or \"low\" and return False\n",
    "    - test and print if guess is \"correct\" and return True"
   ]
  },
  {
   "cell_type": "code",
   "execution_count": 17,
   "metadata": {},
   "outputs": [
    {
     "name": "stdout",
     "output_type": "stream",
     "text": [
      "enter guess: r\n",
      "high\n"
     ]
    },
    {
     "data": {
      "text/plain": [
       "False"
      ]
     },
     "execution_count": 17,
     "metadata": {},
     "output_type": "execute_result"
    }
   ],
   "source": [
    "# [ ] create check_guess() # call with test\n",
    "def check_guess(cg_letter,cg_guess):\n",
    "    if cg_guess.isalpha():\n",
    "        if cg_guess > cg_letter:\n",
    "            print(\"high\")\n",
    "            return False\n",
    "        elif cg_guess < cg_letter:\n",
    "            print(\"low\")\n",
    "            return False\n",
    "        else:\n",
    "            print(\"correct\")\n",
    "            return True\n",
    "    else:\n",
    "        print(\"invalid input: please enter alpha character\")\n",
    "        return False\n",
    "letter = \"k\"\n",
    "\n",
    "check_guess(letter, input(\"enter guess: \"))"
   ]
  },
  {
   "cell_type": "code",
   "execution_count": 20,
   "metadata": {},
   "outputs": [
    {
     "name": "stdout",
     "output_type": "stream",
     "text": [
      "enter guess: b\n",
      "low\n"
     ]
    },
    {
     "data": {
      "text/plain": [
       "False"
      ]
     },
     "execution_count": 20,
     "metadata": {},
     "output_type": "execute_result"
    }
   ],
   "source": [
    "# [ ] call check_guess with user input\n",
    "letter= \"d\"\n",
    "check_guess(letter,input(\"enter guess: \"))"
   ]
  },
  {
   "cell_type": "markdown",
   "metadata": {},
   "source": [
    "### Letter Guess\n",
    "**create letter_guess() function that gives user 3 guesses**\n",
    "- takes a letter character argument for the answer letter\n",
    "- gets user input for letter guess  \n",
    "- calls check_guess() with answer and guess\n",
    "- End letter_guess if \n",
    "    - check_guess() equals True, return True  \n",
    "    - or after 3 failed attempts, return False"
   ]
  },
  {
   "cell_type": "code",
   "execution_count": 23,
   "metadata": {},
   "outputs": [
    {
     "name": "stdout",
     "output_type": "stream",
     "text": [
      "enter answer: s\n",
      "input a guess: e\n",
      "low\n",
      "input a guess: f\n",
      "low\n",
      "input a guess: s\n",
      "correct\n"
     ]
    }
   ],
   "source": [
    "# [ ] create letter_guess() function, call the function to test\n",
    "def letter_guess(answer):\n",
    "    loop=0\n",
    "    retval=False\n",
    "    while loop<3:\n",
    "        in_guess= input(\"input a guess: \")\n",
    "        if check_guess(answer, in_guess):\n",
    "            retval = True\n",
    "            break\n",
    "        loop += 1\n",
    "    return retval\n",
    "the_answer = input(\"enter answer: \")\n",
    "if the_answer.isalpha():\n",
    "    letter_guess(the_answer)\n",
    "else:\n",
    "    print(\"enter alpha character for answer letter\")"
   ]
  },
  {
   "cell_type": "markdown",
   "metadata": {},
   "source": [
    "### Pet Conversation\n",
    "**ask the user for a sentence about a pet and then reply**  \n",
    "- get user input in variable: about_pet\n",
    "- using a series of **if** statements respond with appropriate conversation\n",
    "  - check if \"dog\" is in the string about_pet (sample reply \"Ah, a dog\")\n",
    "  - check if \"cat\" is in the string about_pet\n",
    "  - check if 1 or more animal is in string about_pet\n",
    "- no need for **else**'s\n",
    "- finish with thanking for the story"
   ]
  },
  {
   "cell_type": "code",
   "execution_count": 30,
   "metadata": {},
   "outputs": [
    {
     "name": "stdout",
     "output_type": "stream",
     "text": [
      "a story of your pet(s): I walked my dog and fed my cat\n",
      "i love dogs.\n",
      "i am not a big fan of cats.\n",
      "you have a cat?\n",
      "in my opinion dogs are superior\n",
      "thank you for the story\n"
     ]
    }
   ],
   "source": [
    "# [ ] complete pet conversation\n",
    "about_pet = input(\"a story of your pet(s): \").lower()\n",
    "if \"dog\" in about_pet:\n",
    "    print(\"i love dogs.\")\n",
    "    if \"cat\" in about_pet:\n",
    "        print(\"i am not a big fan of cats.\")\n",
    "if \"cat\" in about_pet:\n",
    "    print(\"you have a cat?\")\n",
    "    if \"dog\" in about_pet:\n",
    "        print(\"in my opinion dogs are superior\")\n",
    "print(\"thank you for the story\")"
   ]
  },
  {
   "cell_type": "markdown",
   "metadata": {
    "collapsed": true
   },
   "source": [
    "[Terms of use](http://go.microsoft.com/fwlink/?LinkID=206977) &nbsp; [Privacy & cookies](https://go.microsoft.com/fwlink/?LinkId=521839) &nbsp; © 2017 Microsoft"
   ]
  }
 ],
 "metadata": {
  "anaconda-cloud": {},
  "kernelspec": {
   "display_name": "Python 3",
   "language": "python",
   "name": "python3"
  },
  "language_info": {
   "codemirror_mode": {
    "name": "ipython",
    "version": 3
   },
   "file_extension": ".py",
   "mimetype": "text/x-python",
   "name": "python",
   "nbconvert_exporter": "python",
   "pygments_lexer": "ipython3",
   "version": "3.7.6"
  }
 },
 "nbformat": 4,
 "nbformat_minor": 1
}
