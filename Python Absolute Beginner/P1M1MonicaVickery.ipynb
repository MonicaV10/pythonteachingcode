{
 "cells": [
  {
   "cell_type": "code",
   "execution_count": null,
   "metadata": {},
   "outputs": [],
   "source": [
    "# Create Allergy check code\n",
    "\n",
    "# [ ] get input for input_test variable\n",
    "input_test = input('enter food eaten in last 24 hrs: ')\n",
    "\n",
    "# [ ] print \"True\" message if \"dairy\" is in the input or False message if not\n",
    "print('dairy' in input_test)\n",
    "print('It is',  'dairy' in input_test.lower(), 'that \"'+ input_test.lower()+ '\" contains \"dairy\"')\n",
    "\n",
    "# [ ] print True message if \"nuts\" is in the input or False if not\n",
    "print('nuts' in input_test)\n",
    "print('It is',  'nuts' in input_test.lower(), 'that \"'+ input_test.lower()+ '\" contains \"nuts\"')\n",
    "\n",
    "# [ ] Challenge: Check if \"seafood\" is in the input - print message\n",
    "print('seafood'.lower() in input_test.lower())\n",
    "\n",
    "# [ ] Challenge: Check if \"chocolate\" is in the input - print message\n",
    "print('chocolate'.lower() in input_test.lower())\n",
    "\n"
   ]
  }
 ],
 "metadata": {
  "kernelspec": {
   "display_name": "Python 3",
   "language": "python",
   "name": "python3"
  },
  "language_info": {
   "codemirror_mode": {
    "name": "ipython",
    "version": 3
   },
   "file_extension": ".py",
   "mimetype": "text/x-python",
   "name": "python",
   "nbconvert_exporter": "python",
   "pygments_lexer": "ipython3",
   "version": "3.7.6"
  }
 },
 "nbformat": 4,
 "nbformat_minor": 4
}
