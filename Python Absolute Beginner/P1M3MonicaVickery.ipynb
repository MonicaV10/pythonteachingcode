{
 "cells": [
  {
   "cell_type": "code",
   "execution_count": null,
   "metadata": {},
   "outputs": [],
   "source": [
    "#module 3 required code:\n",
    "\n",
    "# [ ] create, call and test \n",
    "max_order=50\n",
    "min_order=5\n",
    "cheese_price=10\n",
    "order_amount=input(\"enter cheese order weight (numeric value): \")\n",
    "if order_amount.isdigit():\n",
    "    order_amount_int=int(order_amount)\n",
    "    if order_amount_int>max_order:\n",
    "        print(order_amount, \"is more than currently available stock\")\n",
    "    elif order_amount_int<min_order:\n",
    "        print(order_amount,\"is below minimum order amount\")\n",
    "    else:\n",
    "        cheese_cost=cheese_price*order_amount_int\n",
    "        print(order_amount,\"costs\",\"$\"+str(cheese_cost))\n",
    "else:\n",
    "        print(\"invalid input\")"
   ]
  }
 ],
 "metadata": {
  "kernelspec": {
   "display_name": "Python 3",
   "language": "python",
   "name": "python3"
  },
  "language_info": {
   "codemirror_mode": {
    "name": "ipython",
    "version": 3
   },
   "file_extension": ".py",
   "mimetype": "text/x-python",
   "name": "python",
   "nbconvert_exporter": "python",
   "pygments_lexer": "ipython3",
   "version": "3.7.6"
  }
 },
 "nbformat": 4,
 "nbformat_minor": 4
}
